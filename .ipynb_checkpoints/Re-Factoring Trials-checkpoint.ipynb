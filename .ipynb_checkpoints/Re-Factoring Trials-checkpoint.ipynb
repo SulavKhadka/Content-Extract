{
 "cells": [
  {
   "cell_type": "markdown",
   "metadata": {},
   "source": [
    "# Imports"
   ]
  },
  {
   "cell_type": "code",
   "execution_count": 234,
   "metadata": {},
   "outputs": [],
   "source": [
    "import re\n",
    "import datetime\n",
    "from dateutil.parser import parse\n",
    "import ahocorasick as aho"
   ]
  },
  {
   "cell_type": "markdown",
   "metadata": {},
   "source": [
    "# 1. Email Address Extractor"
   ]
  },
  {
   "cell_type": "code",
   "execution_count": 235,
   "metadata": {},
   "outputs": [],
   "source": [
    "def email_ext(sentence):\n",
    "    ''' Find Email Adresses '''\n",
    "    expression = re.compile(r\"(\\S+)@(\\S+)\")\n",
    "    result = expression.findall(sentence)\n",
    "    if result != []:\n",
    "        return result    \n",
    "    else:\n",
    "        return \"None\""
   ]
  },
  {
   "cell_type": "markdown",
   "metadata": {},
   "source": [
    "# 2. DateTime Extractor"
   ]
  },
  {
   "cell_type": "markdown",
   "metadata": {},
   "source": [
    "### 2.1 Old DateTime Extractor"
   ]
  },
  {
   "cell_type": "code",
   "execution_count": 236,
   "metadata": {},
   "outputs": [],
   "source": [
    "def time_date_ext(sentence):\n",
    "    ''' Find Dates and Times '''\n",
    "    datetime_keyword_lst =(':','today','tomorrow','yesterday','am','a.m','a.m.','pm','p.m','p.m.','january','february','march','april','may','june','july','august','september','october','november','december')\n",
    "    try:\n",
    "        for keyword in datetime_keyword_lst:\n",
    "            if keyword in sentence:\n",
    "                p = parse(sentence, fuzzy=True)\n",
    "                td_lst =  str(p).split(\" \")\n",
    "                date_lst = td_lst[0].split(\"-\")\n",
    "                time_lst = td_lst[1].split(\":\")\n",
    "                if \"tomorrow\" in sentence:\n",
    "                    date_lst[2] = int(date_lst[2]) + 1\n",
    "                elif \"yesterday\" in sentence:\n",
    "                    date_lst[2] = int(date_lst[2]) - 1\n",
    "\n",
    "                dt = datetime.datetime(int(date_lst[0]),int(date_lst[1]),int(date_lst[2]),int(time_lst[0]),int(time_lst[1]),int(time_lst[2]))\n",
    "                p = [str(dt.year) + \"-\" + str(dt.month) + \"-\" + str(dt.day) +\n",
    "                     \" \" + str(dt.hour) + \":\" + str(dt.minute) + \":\" + str(dt.second)]\n",
    "                break\n",
    "            else:\n",
    "                p = \"None\"\n",
    "        return p\n",
    "    \n",
    "    except ValueError:\n",
    "        return \"None\"\n"
   ]
  },
  {
   "cell_type": "markdown",
   "metadata": {},
   "source": [
    "### 2.2 New DateTime Extractor"
   ]
  },
  {
   "cell_type": "code",
   "execution_count": 237,
   "metadata": {},
   "outputs": [],
   "source": [
    "# Keyword String Matcher\n",
    "\n",
    "A = aho.Automaton()\n",
    "datetime_keyword_lst =(':','today','tomorrow', 'tmrw','yesterday','am','a.m','a.m.','pm','p.m','p.m.','january','february','march','april','may','june','july','august','september','october','november','december')\n",
    "\n",
    "for i in datetime_keyword_lst:\n",
    "    A.add_word(i, i)\n",
    "A.make_automaton()"
   ]
  },
  {
   "cell_type": "code",
   "execution_count": 281,
   "metadata": {},
   "outputs": [],
   "source": [
    "def time_date_ext_t(sentence):\n",
    "    \n",
    "    datetime_results = []\n",
    "    \n",
    "    # keywords\n",
    "    datetime_keyword_lst =(':','today','tomorrow','yesterday','am','a.m','a.m.','pm','p.m','p.m.','january','february','march','april','may','june','july','august','september','october','november','december')\n",
    "    \n",
    "    for keyword in datetime_keyword_lst:\n",
    "        \n",
    "        if keyword in sentence:\n",
    "            # checking for tomorrow and yesterday in the sentence and adding a datetime object accordingly\n",
    "            one_day = datetime.timedelta(days=1)\n",
    "            if \"tomorrow\" in sentence:\n",
    "                datetime_results.append(datetime.datetime.now() + one_day)\n",
    "            elif \"yesterday\" in sentence:\n",
    "                datetime_results.append(datetime.datetime.now() - one_day)\n",
    "            \n",
    "            # extracting datetime object from sentence using dateutil.parser.parse\n",
    "            try:\n",
    "                datetime_results.append(parse(sentence, fuzzy=True))\n",
    "            except ValueError:\n",
    "                if not datetime_results:\n",
    "                    datetime_results = [\"val None\"]\n",
    "            break\n",
    "                    \n",
    "    if datetime_results:\n",
    "        return datetime_results\n",
    "    else:\n",
    "        return [\"None\"]\n",
    "    "
   ]
  },
  {
   "cell_type": "code",
   "execution_count": 297,
   "metadata": {},
   "outputs": [],
   "source": [
    "trial = [\"Ill just do it on the 4th of march 3000\", \"I have a meeting at 5:00pm\"]"
   ]
  },
  {
   "cell_type": "code",
   "execution_count": 298,
   "metadata": {},
   "outputs": [
    {
     "data": {
      "text/plain": [
       "[['3000-3-4 0:0:0'], ['2018-9-3 17:0:0']]"
      ]
     },
     "execution_count": 298,
     "metadata": {},
     "output_type": "execute_result"
    }
   ],
   "source": [
    "# %%timeit\n",
    "[time_date_ext(i) for i in trial]"
   ]
  },
  {
   "cell_type": "code",
   "execution_count": 299,
   "metadata": {},
   "outputs": [
    {
     "data": {
      "text/plain": [
       "[[datetime.datetime(3000, 3, 4, 0, 0)], [datetime.datetime(2018, 9, 3, 17, 0)]]"
      ]
     },
     "execution_count": 299,
     "metadata": {},
     "output_type": "execute_result"
    }
   ],
   "source": [
    "[time_date_ext_t(i) for i in trial]"
   ]
  },
  {
   "cell_type": "markdown",
   "metadata": {},
   "source": [
    "# 3. Phone Number Extractor"
   ]
  },
  {
   "cell_type": "code",
   "execution_count": 242,
   "metadata": {},
   "outputs": [],
   "source": [
    "def phone_num_ext(sentence):\n",
    "    ''' Find Phone Numbers '''\n",
    "    reg = re.compile(\".*?(\\(?\\d{3}\\D{0,3}\\d{3}\\D{0,3}\\d{4}).*?\", re.S)\n",
    "    num = reg.findall(sentence)\n",
    "    return [re.sub(r'[^\\w\\d]', '', i) for i in num]\n",
    "    "
   ]
  },
  {
   "cell_type": "code",
   "execution_count": 243,
   "metadata": {},
   "outputs": [],
   "source": [
    "ph_trial = \"I am earning $70,000,0000 dollars but i can give you some if you call at 1 (800) 424-6888\""
   ]
  },
  {
   "cell_type": "code",
   "execution_count": 244,
   "metadata": {},
   "outputs": [
    {
     "data": {
      "text/plain": [
       "['8004246888']"
      ]
     },
     "execution_count": 244,
     "metadata": {},
     "output_type": "execute_result"
    }
   ],
   "source": [
    "phone_num_ext(ph_trial)"
   ]
  },
  {
   "cell_type": "code",
   "execution_count": null,
   "metadata": {},
   "outputs": [],
   "source": []
  },
  {
   "cell_type": "code",
   "execution_count": null,
   "metadata": {},
   "outputs": [],
   "source": []
  },
  {
   "cell_type": "code",
   "execution_count": null,
   "metadata": {},
   "outputs": [],
   "source": []
  }
 ],
 "metadata": {
  "kernelspec": {
   "display_name": "Python 3",
   "language": "python",
   "name": "python3"
  },
  "language_info": {
   "codemirror_mode": {
    "name": "ipython",
    "version": 3
   },
   "file_extension": ".py",
   "mimetype": "text/x-python",
   "name": "python",
   "nbconvert_exporter": "python",
   "pygments_lexer": "ipython3",
   "version": "3.7.0"
  }
 },
 "nbformat": 4,
 "nbformat_minor": 2
}
